{
 "cells": [
  {
   "cell_type": "code",
   "execution_count": 111,
   "metadata": {},
   "outputs": [],
   "source": [
    "#imports\n",
    "import numpy as np"
   ]
  },
  {
   "cell_type": "code",
   "execution_count": 112,
   "metadata": {},
   "outputs": [],
   "source": [
    "#need a 3x3 board for tik tac toe\n",
    "#this resets the board\n",
    "def reset():\n",
    "    board = np.array([\".\",\".\",\".\",\".\",\".\",\".\",\".\",\".\",\".\",]).reshape(3,3)\n",
    "    return board\n"
   ]
  },
  {
   "cell_type": "code",
   "execution_count": 113,
   "metadata": {},
   "outputs": [],
   "source": [
    "#need the function to add a move\n",
    "#inputs - player (x or o), board, row for move, column for move\n",
    "#outputs - if move was success or not and the board\n",
    "\n",
    "def play(player, board):\n",
    "    row, column = input(\"Enter a row and column seperated by a space: \").split()\n",
    "    print(\"row: \", int(row))\n",
    "    print(\"column: \", int(column))\n",
    "    print()\n",
    "    row = int(row) - 1\n",
    "    column = int(column) - 1\n",
    "    \n",
    "    if row > 3 or row < 0 or column > 3 or column < 0:\n",
    "        print(\"Not a valid location\")\n",
    "        return False, board\n",
    "    \n",
    "    if board[row, column] == \".\":\n",
    "        board[row, column] = player\n",
    "        print(\"Move was successful\")\n",
    "        return True, board\n",
    "    \n",
    "    elif board[row, column] == \"X\" or board[row, column] == \"O\":\n",
    "        print(\"Player already at that location\")\n",
    "        return False, board\n",
    "        \n",
    "\n",
    "\n"
   ]
  },
  {
   "cell_type": "code",
   "execution_count": 114,
   "metadata": {},
   "outputs": [],
   "source": [
    "#need a function to check for a win\n",
    "#takes an input of the board\n",
    "#outputs true or false\n",
    "def win(board):\n",
    "    \n",
    "    if board [0][0] == board[1][1] and board[1][1] == board[2][2] and board[0][0] != \".\":\n",
    "    #checks if there is a winner on the first diag\n",
    "        return True\n",
    "    \n",
    "    elif board [0][2] == board[1][1] and board[1][1] == board[2][1] and board[1][1] != \".\":\n",
    "    #checks if there is a winner on the sec diag\n",
    "        return True\n",
    "    \n",
    "    \n",
    "    for i in range(3):\n",
    "        \n",
    "        if board[i][0] == board[i][1] and board[i][0] == board[i][2] and board[i][0] != \".\":\n",
    "        #checks if there is a winner on the rows\n",
    "            return True\n",
    "        \n",
    "        elif board[0][i] == board[1][i] and board[0][i] == board[2][i] and board[0][i] != \".\":\n",
    "        #checks if there is a winner on the columns\n",
    "            return True\n",
    "\n",
    "    return False\n"
   ]
  },
  {
   "cell_type": "code",
   "execution_count": null,
   "metadata": {},
   "outputs": [
    {
     "name": "stdout",
     "output_type": "stream",
     "text": [
      "[['.' '.' '.']\n",
      " ['.' '.' '.']\n",
      " ['.' '.' '.']]\n",
      "X 's turn.\n"
     ]
    }
   ],
   "source": [
    "#need a function to drive the game\n",
    "turn = 0\n",
    "moves = 0\n",
    "\n",
    "player_1 = \"X\"\n",
    "player_2 = \"O\"\n",
    "\n",
    "board = reset()\n",
    "winner = False\n",
    "\n",
    "while not winner:\n",
    "    print(board)\n",
    "    valid = False\n",
    "    \n",
    "    if turn == 0:\n",
    "        player = player_1\n",
    "        print(player_1, \"'s turn.\")\n",
    "        turn = 1\n",
    "    else:\n",
    "        player = player_2\n",
    "        print(player_2, \"'s turn.\")\n",
    "        turn = 0\n",
    "    \n",
    "\n",
    "    \n",
    "    while not valid:\n",
    "        valid, board = play(player, board)\n",
    "    winner = win(board)\n",
    "    if winner:\n",
    "        print(player, \"'s Win!'\")\n",
    "        print(board)\n",
    "        \n",
    "    if turn == 9:\n",
    "        print(\"Cat's Game\")\n",
    "        break\n",
    "\n",
    "\n",
    "    turn += 1\n",
    "    \n",
    "    "
   ]
  },
  {
   "cell_type": "code",
   "execution_count": null,
   "metadata": {},
   "outputs": [],
   "source": []
  }
 ],
 "metadata": {
  "kernelspec": {
   "display_name": "Python 3",
   "language": "python",
   "name": "python3"
  },
  "language_info": {
   "codemirror_mode": {
    "name": "ipython",
    "version": 3
   },
   "file_extension": ".py",
   "mimetype": "text/x-python",
   "name": "python",
   "nbconvert_exporter": "python",
   "pygments_lexer": "ipython3",
   "version": "3.7.6"
  }
 },
 "nbformat": 4,
 "nbformat_minor": 4
}
